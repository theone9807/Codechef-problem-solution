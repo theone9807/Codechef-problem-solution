{
 "cells": [
  {
   "cell_type": "code",
   "execution_count": null,
   "metadata": {},
   "outputs": [],
   "source": [
    "#codechef problem\n",
    "#withdraw problem\n",
    "#factorial problem"
   ]
  },
  {
   "cell_type": "code",
   "execution_count": 5,
   "metadata": {},
   "outputs": [],
   "source": [
    "#account withdraw problem\n",
    "def atm():\n",
    "    \"\"\"simple func\"\"\"\n",
    "    account_bal = 200\n",
    "    withdraw = int(input('Enter amount you want to withdraw : '))\n",
    "\n",
    "    if (withdraw % 5) == 0 and withdraw <= (account_bal - (0.5)):\n",
    "        print('withdraw done!')\n",
    "        account_bal -= withdraw + (0.50)\n",
    "        print(f'Current balance: {account_bal}')\n",
    "    else:\n",
    "        print(f'Invalid input\\nCurrent balance :{account_bal}')\n",
    "          "
   ]
  },
  {
   "cell_type": "code",
   "execution_count": 6,
   "metadata": {},
   "outputs": [
    {
     "name": "stdout",
     "output_type": "stream",
     "text": [
      "Enter amount you want to withdraw : 100\n",
      "withdraw done!\n",
      "Current balance: 99.5\n"
     ]
    }
   ],
   "source": [
    "atm()"
   ]
  },
  {
   "cell_type": "code",
   "execution_count": 1,
   "metadata": {},
   "outputs": [
    {
     "name": "stdout",
     "output_type": "stream",
     "text": [
      "Overwriting cc2.py\n"
     ]
    }
   ],
   "source": [
    "%%writefile cc2.py\n",
    "\"\"\"this module is to calculate factorial\"\"\"\n",
    "#ques 2\n",
    "#https://www.codechef.com/problems/FCTRL2/\n",
    "while True:\n",
    "    FACT = 1\n",
    "    COUNT = 0\n",
    "    USER_INPUT = int(input('Enter an number :'))\n",
    "    COUNT += int(USER_INPUT)\n",
    "    if COUNT == 1:\n",
    "        if COUNT == USER_INPUT:\n",
    "            break\n",
    "        else:\n",
    "            continue\n",
    "   \n",
    "    elif USER_INPUT == 0:\n",
    "        print(1)\n",
    "    else:\n",
    "        for i in range(1, USER_INPUT+1):\n",
    "            FACT *= i\n",
    "        print(FACT) \n",
    "        "
   ]
  },
  {
   "cell_type": "code",
   "execution_count": null,
   "metadata": {},
   "outputs": [],
   "source": [
    "!pylint cc2.py"
   ]
  },
  {
   "cell_type": "code",
   "execution_count": null,
   "metadata": {},
   "outputs": [],
   "source": [
    "while True:\n",
    "    FACT = 1\n",
    "    COUNT = 0\n",
    "    USER_INPUT = int(input('Enter an number :'))\n",
    "    COUNT += int(USER_INPUT)\n",
    "    if COUNT == 1:\n",
    "        continue\n",
    "    elif int(USER_INPUT) == COUNT:\n",
    "        break\n",
    "        \n",
    "    elif USER_INPUT == 0:\n",
    "        print(1)\n",
    "    else:\n",
    "        for i in range(1, USER_INPUT+1):\n",
    "            FACT *= i\n",
    "        print(FACT) "
   ]
  },
  {
   "cell_type": "code",
   "execution_count": null,
   "metadata": {},
   "outputs": [],
   "source": []
  }
 ],
 "metadata": {
  "kernelspec": {
   "display_name": "Python 3",
   "language": "python",
   "name": "python3"
  },
  "language_info": {
   "codemirror_mode": {
    "name": "ipython",
    "version": 3
   },
   "file_extension": ".py",
   "mimetype": "text/x-python",
   "name": "python",
   "nbconvert_exporter": "python",
   "pygments_lexer": "ipython3",
   "version": "3.6.3rc1"
  }
 },
 "nbformat": 4,
 "nbformat_minor": 2
}
